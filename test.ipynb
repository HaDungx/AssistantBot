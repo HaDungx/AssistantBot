{
 "cells": [
  {
   "cell_type": "code",
   "execution_count": 11,
   "metadata": {},
   "outputs": [
    {
     "ename": "AttributeError",
     "evalue": "'PDFPlumberParser' object has no attribute 'load'",
     "output_type": "error",
     "traceback": [
      "\u001b[1;31m---------------------------------------------------------------------------\u001b[0m",
      "\u001b[1;31mAttributeError\u001b[0m                            Traceback (most recent call last)",
      "Cell \u001b[1;32mIn[11], line 7\u001b[0m\n\u001b[0;32m      4\u001b[0m parser \u001b[38;5;241m=\u001b[39m PDFPlumberParser(\u001b[38;5;124m\"\u001b[39m\u001b[38;5;124mdata/tkb-khoi-11_289202418.pdf\u001b[39m\u001b[38;5;124m\"\u001b[39m)\n\u001b[0;32m      6\u001b[0m \u001b[38;5;66;03m# Load your PDF data\u001b[39;00m\n\u001b[1;32m----> 7\u001b[0m data \u001b[38;5;241m=\u001b[39m \u001b[43mparser\u001b[49m\u001b[38;5;241;43m.\u001b[39;49m\u001b[43mload\u001b[49m()\n\u001b[0;32m      9\u001b[0m \u001b[38;5;66;03m# Now you can process the data\u001b[39;00m\n\u001b[0;32m     10\u001b[0m processed_data \u001b[38;5;241m=\u001b[39m parser\u001b[38;5;241m.\u001b[39mprocess(data)\n",
      "\u001b[1;31mAttributeError\u001b[0m: 'PDFPlumberParser' object has no attribute 'load'"
     ]
    }
   ],
   "source": [
    "from langchain.document_loaders.parsers.pdf import PDFPlumberParser\n",
    "\n",
    "# Initialize the parser\n",
    "parser = PDFPlumberParser(\"data/tkb-khoi-11_289202418.pdf\")\n",
    "\n",
    "# Load your PDF data\n",
    "data = parser.load()\n",
    "\n",
    "# Now you can process the data\n",
    "processed_data = parser.process(data)\n",
    "processed_data\n"
   ]
  },
  {
   "cell_type": "code",
   "execution_count": 5,
   "metadata": {},
   "outputs": [
    {
     "name": "stderr",
     "output_type": "stream",
     "text": [
      "c:\\Users\\Dell\\anaconda3\\envs\\chat\\Lib\\site-packages\\pypdfium2\\_helpers\\textpage.py:80: UserWarning: get_text_range() call with default params will be implicitly redirected to get_text_bounded()\n",
      "  warnings.warn(\"get_text_range() call with default params will be implicitly redirected to get_text_bounded()\")\n"
     ]
    }
   ],
   "source": [
    "data = loader.load()"
   ]
  }
 ],
 "metadata": {
  "kernelspec": {
   "display_name": "chat",
   "language": "python",
   "name": "python3"
  },
  "language_info": {
   "codemirror_mode": {
    "name": "ipython",
    "version": 3
   },
   "file_extension": ".py",
   "mimetype": "text/x-python",
   "name": "python",
   "nbconvert_exporter": "python",
   "pygments_lexer": "ipython3",
   "version": "3.11.9"
  }
 },
 "nbformat": 4,
 "nbformat_minor": 2
}
