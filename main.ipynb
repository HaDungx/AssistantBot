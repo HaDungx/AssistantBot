{
 "cells": [
  {
   "cell_type": "code",
   "execution_count": 17,
   "metadata": {},
   "outputs": [
    {
     "name": "stderr",
     "output_type": "stream",
     "text": [
      "c:\\Users\\Dell\\anaconda3\\envs\\chat\\Lib\\site-packages\\pydantic\\_internal\\_fields.py:132: UserWarning: Field \"model_name\" in HuggingFaceInferenceAPIEmbeddings has conflict with protected namespace \"model_\".\n",
      "\n",
      "You may be able to resolve this warning by setting `model_config['protected_namespaces'] = ()`.\n",
      "  warnings.warn(\n"
     ]
    }
   ],
   "source": [
    "from langchain_community.document_loaders import PyPDFLoader, CSVLoader, UnstructuredWordDocumentLoader,DirectoryLoader,Docx2txtLoader\n",
    "from langchain.text_splitter import RecursiveCharacterTextSplitter, CharacterTextSplitter\n",
    "from langchain_community.vectorstores import FAISS\n",
    "from langchain_community.embeddings import GPT4AllEmbeddings,HuggingFaceEmbeddings\n",
    "from langchain.chains import LLMChain\n",
    "from langchain.prompts import PromptTemplate\n",
    "from langchain_community.llms import CTransformers\n",
    "from langchain.chains import RetrievalQA\n",
    "from langchain.schema import Document\n",
    "\n",
    "import requests\n",
    "from bs4 import BeautifulSoup\n",
    "import os"
   ]
  },
  {
   "cell_type": "code",
   "execution_count": 5,
   "metadata": {},
   "outputs": [],
   "source": [
    "def select_loader(file_path):\n",
    "    ext = os.path.splitext(file_path)[1].lower()\n",
    "    if ext == '.pdf':\n",
    "        return PyPDFLoader(file_path)\n",
    "    elif ext == '.csv':\n",
    "        return CSVLoader(file_path)\n",
    "    elif ext == '.docx' or ext == '.doc':\n",
    "        return Docx2txtLoader(file_path)\n",
    "    else:\n",
    "        return None\n",
    "\n",
    "def load_all_files(directory_path):\n",
    "    combined_text = []\n",
    "    for root, dirs, files in os.walk(directory_path):\n",
    "        for file in files:\n",
    "            file_path = os.path.join(root, file)\n",
    "            loader = select_loader(file_path)\n",
    "            if loader:\n",
    "                documents = loader.load()\n",
    "                combined_text += documents\n",
    "    \n",
    "    return combined_text\n",
    "\n",
    "def crawl_web(urls):\n",
    "    combined_text = []\n",
    "    for url in urls:\n",
    "        try:\n",
    "            response = requests.get(url)\n",
    "            response.raise_for_status()\n",
    "            soup = BeautifulSoup(response.text, 'html.parser')\n",
    "            # Loại bỏ các phần không cần thiết như script, style\n",
    "            for script in soup([\"script\", \"style\"]):\n",
    "                script.decompose()\n",
    "            text = soup.get_text(separator='\\n')\n",
    "            combined_text.append(text)\n",
    "        except Exception as e:\n",
    "            print(f\"Không thể crawl {url}: {e}\")\n",
    "    return combined_text\n"
   ]
  },
  {
   "cell_type": "code",
   "execution_count": 13,
   "metadata": {},
   "outputs": [],
   "source": [
    "directory_path = \"data\"\n",
    "urls_to_crawl = [\n",
    "    \"https://thptbuithixuan.hcm.edu.vn/homegd3\",\n",
    "]\n",
    "web_documents = crawl_web(urls_to_crawl)\n",
    "documents = load_all_files(directory_path)\n",
    "processed_web_documents = [Document(page_content=doc, metadata={}) for doc in web_documents]\n",
    "\n",
    "\n",
    "combined_documents = processed_web_documents + documents\n"
   ]
  },
  {
   "cell_type": "code",
   "execution_count": 14,
   "metadata": {},
   "outputs": [
    {
     "data": {
      "text/plain": [
       "[Document(metadata={}, page_content='\\n\\n\\n\\n\\n\\n\\r\\n\\tTRƯỜNG THPT BÙI THỊ XUÂN\\r\\n\\n\\n\\n\\n\\n\\n\\n\\n\\n\\n\\n\\n\\n\\n\\n\\n\\n\\n\\n\\n\\n\\n\\n\\n\\n\\n\\n\\n\\n\\n\\n\\n\\n\\n\\n\\n\\n\\n\\n\\n\\n\\n\\n\\n\\n\\n\\n\\n\\n\\n\\n\\n\\n\\n\\n\\n\\n\\n\\n\\n\\n\\n\\n\\n\\n\\n\\n\\n\\nKhối THPT\\n\\n\\n\\n\\n\\n\\n\\n\\n\\n\\n\\n\\n\\n\\n\\n\\n\\n\\n\\n\\n\\n\\n \\n Ngành Giáo Dục Và Đào Tạo Thành Phố Hồ Chí Minh\\n TRƯỜNG THPT BÙI THỊ XUÂN\\n \\n\\n\\n\\n\\n\\n\\n\\n\\n\\n\\n\\n\\n\\n\\n\\n\\n\\n\\n\\n\\n\\n\\n\\n\\nGiới thiệu\\nCông khai thông tin\\nBiểu mẫu\\nKế hoạch công tác\\nTuyển sinh\\nTin tức - sự kiện\\nCải cách hành chính\\nChính trị - tư tưởng\\nY tế học đường\\nHoạt động chuyên môn\\nGÓC HỌC TẬP TRỰC TUYẾN\\nTHÔNG BÁO\\nHƯỚNG DẪN\\nTHỜI KHÓA BIỂU\\nliên hệ \\n\\n\\n\\n\\n\\n\\n\\n\\n\\n\\n\\n\\n\\n\\nGiới thiệu\\n \\n&nbspCông khai thông tin\\n \\n&nbspBiểu mẫu\\nThi - kiểm tra\\n \\n&nbspKiểm tra học kỳ 1\\n \\n\\xa0\\xa0\\n&nbspMa trận\\n \\n\\xa0\\xa0\\n\\xa0Đề - Đáp án\\n \\n\\xa0\\xa0\\n&nbspVăn\\n \\n\\xa0\\xa0\\n&nbspToán\\n \\n\\xa0\\xa0\\n&nbspLý\\n \\n\\xa0\\xa0\\n&nbspHóa\\n \\n\\xa0\\xa0\\n&nbspTiếng Anh\\n \\n\\xa0\\xa0\\n&nbspSinh\\n \\n\\xa0\\xa0\\n&nbspLịch sử\\n \\n\\xa0\\xa0\\n\\xa0Địa lý\\n \\n\\xa0\\xa0\\n&nbspTin học\\n \\n\\xa0\\xa0\\n&nbspCông nghệ\\n \\n\\xa0\\xa0\\n&nbspGDCD\\n \\n\\xa0\\xa0\\n&nbspGDQP\\n \\n\\xa0\\xa0\\n&nbspGiáo dục địa phương\\n \\n\\xa0\\xa0\\n&nbspHoạt động trải nghiệm\\n \\n&nbspKiếm tra học kỳ 2\\n \\n\\xa0\\xa0\\n&nbspMa trận\\n \\n\\xa0\\xa0\\n\\xa0Đề - Đáp án\\n \\n&nbspLịch thi\\n \\n&nbspHướng dẫn ôn tập\\n \\n\\xa0\\xa0\\n&nbspHk i\\n \\n\\xa0\\xa0\\n&nbspHk ii\\nKế hoạch công tác\\n \\n&nbspTuyển sinh\\nTin tức - sự kiện\\n \\n&nbspTin tức video\\n \\n&nbspCải cách hành chính\\nVăn bản hành chính\\n \\n&nbspVăn bản của Sở Giáo dục và Đào tạo\\n \\n&nbspVăn bản khác\\nChính trị - tư tưởng\\n \\n&nbspY tế học đường\\nHoạt động chuyên môn\\n \\n&nbspGÓC HỌC TẬP TRỰC TUYẾN\\n \\n\\xa0\\xa0\\n&nbspTÀI LIỆU\\n \\n\\xa0\\xa0\\n&nbspNGỮ VĂN\\n \\n\\xa0\\xa0\\n&nbspTOÁN\\n \\n\\xa0\\xa0\\n&nbspVẬT LÝ\\n \\n\\xa0\\xa0\\n&nbspHÓA HỌC\\n \\n\\xa0\\xa0\\n&nbspTIẾNG ANH\\n \\n\\xa0\\xa0\\n&nbspSINH HỌC\\n \\n\\xa0\\xa0\\n&nbspLỊCH SỬ\\n \\n\\xa0\\xa0\\n\\xa0ĐỊA LÝ\\n \\n\\xa0\\xa0\\n&nbspGIÁO DỤC CÔNG DÂN\\n \\n\\xa0\\xa0\\n&nbspTIN HỌC\\n \\n\\xa0\\xa0\\n&nbspCÔNG NGHỆ\\n \\n\\xa0\\xa0\\n&nbspGIÁO DỤC QUỐC PHÒNG - AN NINH\\n \\n\\xa0\\xa0\\n&nbspGIÁO DỤC THỂ CHẤT\\n \\n\\xa0\\xa0\\n&nbspHoạt động trải nghiệm\\n \\n\\xa0\\xa0\\n&nbspHƯỚNG DẪN\\n \\n\\xa0\\xa0\\n&nbspTHÔNG BÁO\\n \\n&nbspTHỜI KHÓA BIỂU\\nChuyên mục khác\\n \\n\\xa0Đoàn TNCS Hồ Chí Minh\\n \\n&nbspThi đua - Khen thưởng\\n \\n&nbspHoạt động của các câu lạc bộ\\n\\n\\n\\n\\n\\n\\n\\n\\n\\n\\n\\n\\n\\n\\n\\n\\n\\n\\n\\n\\n\\n\\n\\n\\n\\n\\n\\n\\n\\n\\n\\n\\n\\n\\n\\r\\n                    Chào mừng 95 năm ngày Thành lập Công đoàn Việt Nam (28/7/1929 - 28/7/2024)\\n\\n\\n\\n\\n\\n\\n\\n\\n\\n\\n\\n\\n\\n\\n \\n\\n\\n\\n\\n\\n\\n\\n\\n\\n\\n\\n\\n\\n\\n\\n\\n\\n\\n\\n\\n\\n\\n\\n\\n\\n\\n\\n\\n\\n\\n\\n\\n\\n\\n\\n\\n\\n\\n\\n\\n\\n\\n \\n \\n \\n \\n \\n \\n \\n \\n \\n \\n \\n \\n \\n \\n \\n \\n \\n \\n \\n \\n \\n \\n \\n\\n\\n\\n\\n\\n\\nTin mới nhất\\nNhững thời điểm cần rửa sạch đôi tay - Quy trình rửa tay 6 bước của Bộ Y tế\\n 22/9/2024 6:55\\nKế hoạch kiểm tra nội bộ NH 2024-2025\\n 20/9/2024 16:13\\nBệnh cúm mùa - những điều cần lưu ý\\n 18/9/2024 10:40\\nCV 68/BGDĐT - GDTrH Hướng dẫn chuyển đổi môn học lựa chọn cụm chuyên đề học tập cấp THPT\\n 12/9/2024 21:1\\nThông tư 22/2021/TT-BGDĐT Qui định về đánh giá học sinh Trung học cơ sở và Trung học phổ thông\\n 12/9/2024 20:44\\nQuy chế kiểm tra đánh giá học sinh từ năm học 2024-2025\\n 12/9/2024 11:14\\nHỏi đáp về Chiến dịch tiêm sởi (phần 2)\\n 8/9/2024 16:7\\nHỏi đáp về chiến dịch tiêm vắc xin sởi (phần 1)\\n 8/9/2024 16:4\\n\\n\\n\\n\\n\\n\\n\\n\\n\\n\\n\\n\\n\\n\\n\\n\\n\\n\\n\\n\\n\\n\\n\\n\\nGiới thiệu\\nCông khai thông tin\\nBiểu mẫu\\nPhiếu đăng ký bán trú\\n 22/8/2024 13:21\\nCV 68/BGDĐT - GDTrH Hướng dẫn chuyển đổi môn học\\n...\\n 12/9/2024 21:1\\nThông tư 22/2021/TT-BGDĐT Qui định về đánh giá học \\n...\\n 12/9/2024 20:44\\nQuy chế kiểm tra đánh giá học sinh từ năm\\n...\\n 12/9/2024 11:14\\nQuy chế tiếp công dân\\n 6/9/2024 22:37\\n\\n\\n\\n\\n\\n\\n\\n\\n\\n\\nKế hoạch công tác\\nTuyển sinh\\nQui trình đăng ký nhập học lớp 10 - năm học 2024-2025\\n 5/7/2024 18:49\\nKế hoạch kiểm tra nội bộ NH 2024-2025\\n 20/9/2024 16:13\\nLịch trực Lễ 02/9\\n 1/9/2024 6:38\\nThông báo: Lịch tập trung học sinh đầu năm học\\n...\\n 22/8/2024 20:18\\nThông báo: Đăng ký bán trú khối 11, khối 12\\n...\\n 19/8/2024 18:33\\n\\n\\n\\n\\n\\n\\n\\n\\n\\n\\nTin tức - sự kiện\\nTin tức video\\nCải cách hành chính\\nThuốc làm tan huyết khối mở ra hy vọng cho bệnh nhân đột quỵ\\n 30/7/2024 14:54\\nTổng đài 111: Tiếp nhận thông tin mọi lúc, bảo\\n...\\n 25/7/2024 14:47\\nTrường thpt bùi thị xuân tổ chức trao thưởng học\\n...\\n 25/6/2024 11:1\\nÂm vang của 3 tiếng trống trường tại lễ tri\\n...\\n 17/6/2024 11:13\\nGiáo viên kiêm nhiệm tổ trưởng chuyên môn yên tâm\\n...\\n 17/6/2024 11:1\\n\\n\\n\\n\\n\\n\\n\\n\\n\\n\\nChính trị - tư tưởng\\nY tế học đường\\nNhững thời điểm cần rửa sạch đôi tay - Quy trình rửa tay 6 bước của Bộ Y tế\\n 22/9/2024 6:55\\nBệnh cúm mùa - những điều cần lưu ý\\n 18/9/2024 10:40\\nHỏi đáp về Chiến dịch tiêm sởi (phần 2)\\n 8/9/2024 16:7\\nHỏi đáp về chiến dịch tiêm vắc xin sởi (phần 1)\\n 8/9/2024 16:4\\nQuy trình xử lý ca mắc/nghi mắc bệnh sởi tại\\n...\\n 8/9/2024 16:2\\n\\n\\n\\n\\n\\n\\n\\n\\n\\n\\nHoạt động chuyên môn\\nGÓC HỌC TẬP TRỰC TUYẾN\\nTHỜI KHÓA BIỂU\\nThời khóa biểu áp dụng từ ngày 05/9/2024\\n 2/9/2024 10:38\\nDanh sách khối 10 năm học 2024 - 2025\\n 19/8/2024 11:10\\nDanh sách học sinh Khối 11 năm học 2024-2025\\n 19/8/2024 11:6\\nLịch họp chuyên môn đầu năm học 2024-2025\\n 24/8/2024 10:41\\nDanh sách học sinh Khối 12 năm học 2024-2025\\n 19/8/2024 11:8\\n\\n\\n\\n\\n\\n\\n\\n\\n\\n\\nThi - kiểm tra\\nKiểm tra học kỳ 1\\nKiếm tra học kỳ 2\\nLịch thi\\nHướng dẫn ôn tập\\nDanh sách thí sinh vắng thi và Lịch kiểm tra học kỳ 1 - bổ sung\\n 24/12/2023 20:23\\nMa trận kiểm tra học kỳ 1 - NH 2023-2024\\n 29/11/2023 11:39\\nĐáp án môn tiếng anh - hk1- nh 2023-3024\\n 16/12/2023 17:8\\n\\n\\n\\n\\n\\n\\n\\n\\n\\n\\nHoạt động của các câu lạc bộ\\nTrường THPT Bùi Thị Xuân ra mắt câu lạc bộ Trí tuệ nhân tạo AI - BTX\\n 14/9/2023 13:9\\nTrang Facebook chính thức của các câu lạc bộ trường\\n...\\n 7/7/2023 14:5\\n\\n\\n\\n\\n\\n\\n\\n\\n\\n\\nVăn bản hành chính\\nVăn bản của Sở Giáo dục và Đào tạo\\nVăn bản khác\\nVăn bản số 2905/SGDĐT-GDTrH ngày 14/5/2024 V/v nâng cao hiệu quả Giáo \\n...\\n 29/8/2024 9:38\\n\\n\\n\\n\\n\\n\\nThư viện ảnh\\nTập ảnh: Bóng đá nữ 2023-2024\\nTập ảnh: Bóng đá nữ 2023-2024\\n\\n\\n\\n\\n\\n\\n\\n\\n\\n\\n\\n\\n\\n\\n\\n\\n\\n\\nTin từ Sở GD&ĐT\\n\\n\\n\\n\\n\\n\\n\\n\\n\\n\\nThông báo\\n\\n\\n\\n\\n\\n\\nThư mời\\n\\n\\n\\n\\n\\n\\nVăn bản\\n\\n\\n\\n\\n\\n\\nTin tức\\n\\n\\n\\n\\n\\n\\nNhắc việc\\n\\n\\n\\n\\n\\n\\n\\n\\n\\n\\n\\n\\n\\n\\nKế hoạch tổ chức Hội nghị Góp ý kế hoạch giáo dục năm học 2024-2025 đối với Giáo dục trung học\\n (21/9/2024 17:46)\\nThông báo về tổng hợp kết quả kiểm tra, giám sát toàn diện hoạt động Công đoàn cơ sở 2024\\n (20/9/2024 18:52)\\nKế hoạch tổ chức kỳ thi học viên giỏi giải toán trên máy tính cầm tay Giáo dục thường xuyên\\n...\\n (19/9/2024 12:49)\\nKế hoạch kiểm tra, giám sát công tác thi đua khen thưởng năm 2024\\n (18/9/2024 10:1)\\nHội nghị tổng kết nhiệm vụ giáo dục chính trị và công tác học sinh, sinh viên; hoạt động thể\\n...\\n (17/9/2024 10:28)\\nVề việc duyệt chi công tác nhập liệu thông tin đoàn viên công đoàn vào phần mềm quản lý đoàn\\n...\\n (20/9/2024 18:58)\\nVề việc nhắc nhở thực hiện báo cáo nhanh đầu năm học 2024-2025.\\n (19/9/2024 16:28)\\nVề việc thực hiện thu thập dữ liệu thông tin thống kê giáo dục kỳ đầu năm học 2024-2025 (Kính\\n...\\n (18/9/2024 15:19)\\nVề việc tham dự cuộc thi “Trường học không ma túy” năm 2024\\n (17/9/2024 14:19)\\nLịch bồi dưỡng “Ứng dụng Trí tuệ nhân tạo (AI) hỗ trợ các hoạt động dạy học dựa trên công\\n...\\n (16/9/2024 17:26)\\n \\nXem thêm\\n\\n\\n\\n\\n\\n\\nLễ trao Huy hiệu Đảng và Hội nghị sơ kết 9 tháng công tác xây dựng Đảng năm 2024.\\n (20/9/2024 15:22)\\nHội nghị Ban Chấp hành Công đoàn Ngành Giáo dục Thành phố lần thứ tám, khóa XII, Nhiệm kỳ 2023-2028\\n (18/9/2024 18:55)\\nMời dự Hội nghị tổng kết nhiệm vụ giáo dục chính trị lúc 08:00 ngày 20/9/2024 tại Hội trường A,\\n...\\n (16/9/2024 15:52)\\nV/v Tham dự Hội nghị sơ kết 01 năm triển khai thực hiện Chương trình phối hợp về định hướng\\n...\\n (16/9/2024 9:27)\\nHội nghị nâng cao chất lượng thương lượng tập thể, ký kết và thực hiện Thỏa ước lao động tập\\n...\\n (13/9/2024 9:15)\\nTham dự Hội nghị tổng kết năm học 2023 - 2024 và triển khai nhiệm vụ năm học 2024 -\\n...\\n (20/9/2024 10:25)\\nHội nghị đánh giá tác động trong việc sắp xếp tổ chức đảng.\\n (16/9/2024 18:42)\\nTham dự Hội nghị sơ kết 01 năm triển khai thực hiện Chương trình phối hợp về định hướng phân\\n...\\n (16/9/2024 10:45)\\nV/v Tham dự tập huấn và bồi dưỡng nghiệp vụ chuyên môn đối với các trung tâm ngoại ngữ tin\\n...\\n (16/9/2024 9:25)\\nV/v tiếp Phái Đoàn Chính phủ Bang New South Wales\\n (11/9/2024 10:22)\\n \\nXem thêm\\n\\n\\n\\n\\n\\n\\nCông văn Về việc upload video clip tham gia cuộc thi \"Thầy cô trong mắt em\" năm 2024 do CĐGD\\n...\\n (23/9/2024 16:38)\\nCông văn về việc triển khai thực hiện Kết luận số 81-KL/TW ngày 04/6/2024 của Bộ Chính trị\\n (20/9/2024 18:44)\\nVề việc triển khai thực hiện văn phòng điện tử Công đoàn Ngành Giáo dục Thành phố\\n (19/9/2024 9:30)\\nNghị định số 102/2024/NĐ-CP Quy định chi tiết thi hành một số điều của Luật Đất đai\\n (17/9/2024 10:15)\\nKế hoạch hội thao truyền thống Ngành Giáo dục Thành phố Chào mừng kỷ niệm 42 năm ngày Nhà giáo\\n...\\n (16/9/2024 15:49)\\nCông văn về việc vận động đoàn viên, người lao động tham gia Cuộc thi “Chung tay vì an toàn\\n...\\n (20/9/2024 18:48)\\nKế hoạch tổ chức kỳ thi học viên giỏi giải toán trên máy tính cầm tay Giáo dục thường xuyên\\n...\\n (19/9/2024 12:48)\\nVề việc thay thế, bổ sung thành viên Tổ công tác và Tổ giúp việc triển khai thực hiện Đề\\n...\\n (17/9/2024 13:43)\\nNghị định số 110/2024/NĐ-CP Về công tác xã hội\\n (17/9/2024 10:11)\\nVề hưởng ứng tham gia Giải Báo chí thành phố về công tác phòng, chống tham nhũng, tiêu cực năm 2024.\\n (16/9/2024 15:13)\\n \\nXem thêm\\n\\n\\n\\n\\n\\n\\nNgành giáo dục TP.HCM trao 4 tỷ đồng đến Ủy ban MTTQ Việt Nam ủng hộ đồng bào miền Bắc\\n (23/9/2024 20:15)\\nCác chuyên gia bàn về giải pháp hiệu quả để giảm thiểu tác động tiêu cực của thương mại điện\\n...\\n (18/9/2024 19:49)\\nĐổi mới phương pháp dạy tiếng Anh nhằm nâng cao động lực học tập và năng lực giao tiếp\\n (18/9/2024 19:40)\\nCông đoàn Ngành Giáo dục Thành phố đã tổ chức Lễ trao học bổng Nguyễn Đức Cảnh cấp ngành lần\\n...\\n (16/9/2024 9:11)\\nTP.HCM được công nhận đạt chuẩn phổ cập giáo dục, xóa mù chữ\\n (13/9/2024 13:57)\\nHội thảo Khoa học Quốc tế về Kế toán, Kinh tế, Tài chính và Quản lý năm 2024: Định hướng\\n...\\n (18/9/2024 19:57)\\nHội thảo Những thách thức, cơ hội cho phát triển bền vững nông nghiệp và rừng tại Úc và Việt Nam”\\n (18/9/2024 19:46)\\nCác trung tâm giáo dục thường xuyên, trung tâm giáo dục nghề nghiệp – giáo dục thường xuyên hưởng ứng\\n...\\n (17/9/2024 7:48)\\nMột số hình ảnh hoat động khai giảng năm học 2024 - 2025 của các Trung tâm Giáo dục thường\\n...\\n (13/9/2024 18:40)\\nTập huấn cán bộ quản lý, chuyên viên và giáo viên thực hiện chương trình xóa mù chữ giai đoạn 1\\n (11/9/2024 20:50)\\n \\nXem thêm\\n\\n\\n\\n\\n\\n\\nChuẩn bị công tác thi Nghề phổ thông cấp THPT\\n (30/3/2021 9:42)\\nHội thi Khéo tay Kỹ thuật năm học 2018 - 2019\\n (24/1/2019 8:12)\\nTrước 28/5/2018: Hoàn tất Báo cáo tổng kết năm học 2017 - 2018\\n (12/5/2018 8:19)\\nOlympic tháng 4 thành phố Hồ Chí Minh: Tiếp đón các Đoàn các địa phương tại trường THPT Nguyễn Hữu\\n...\\n (4/4/2018 16:52)\\nĐăng ký tham dự Hội thao Giáo dục Quốc phòng và An Ninh THPT năm 2020\\n (30/11/2019 9:59)\\nTrước 25/10/2018: Nhận tài liệu \"Giáo dục đạo đức liêm chính cho học sinh phổ thông\"\\n (23/10/2018 10:41)\\n06/5/2018 - Hoàn tất đăng ký dự thi Robotacon bảng A\\n (24/4/2018 9:20)\\n \\nXem thêm\\n\\n\\n\\n\\n\\n\\n\\n\\n\\n\\n\\n\\n\\n\\n\\n\\n\\n\\n\\n\\n\\n\\n\\n\\n\\n\\n\\n\\nBộ Giáo Dục và Đào Tạo\\n\\n\\n\\n\\n\\n\\n\\n\\n\\n\\nTin tức\\n\\n\\n\\n\\n\\n\\nVăn bản quy phạm\\n\\n\\n\\n\\n\\n\\nVăn bản chỉ đạo\\n\\n\\n\\n\\n\\n\\n\\n\\n\\n\\n\\n\\n\\n\\nHướng dẫn thực hiện nhiệm vụ năm học 2024-2025 đối với giáo dục dân tộc\\n (23/9/2024 11:1)\\nPhát động cuộc thi viết “Những kỷ niệm sâu sắc về thầy cô và mái trường” năm 2024\\n (19/9/2024 17:10)\\nThực hiện giải pháp dạy học linh hoạt, phù hợp với các trường ảnh hưởng bão lũ\\n (19/9/2024 15:19)\\nXem xét hỗ trợ học phí cho học sinh tại vùng bị ảnh hưởng bởi bão lũ\\n (18/9/2024 17:22)\\nThông tin báo chí về giáo dục ngày 17/9/2024\\n (17/9/2024 19:0)\\nThông tin báo chí về giáo dục ngày 15/9/2024\\n (15/9/2024 19:0)\\nThông tin báo chí về giáo dục ngày 13/9/2024\\n (13/9/2024 19:0)\\nThông tin báo chí về giáo dục ngày 11/9/2024\\n (11/9/2024 19:0)\\nThông tin báo chí về giáo dục ngày 09/9/2024\\n (9/9/2024 19:0)\\nThông tin báo chí về giáo dục ngày 07/9/2024\\n (7/9/2024 19:0)\\nTập huấn sử dụng phần mềm cổng dịch vụ công trực tuyến và hệ thống thông tin một cửa\\n (19/9/2024 20:51)\\nThư cảm ơn tổ chức, cá nhân chung tay cùng ngành Giáo dục khắc phục thiệt hại bão số 3\\n (19/9/2024 15:53)\\nCông điện về chủ động ứng phó áp thấp nhiệt đới, có khả năng mạnh lên thành bão\\n (19/9/2024 9:16)\\nThứ trưởng Nguyễn Văn Phúc thăm, động viên ngành Giáo dục Phú Thọ\\n (18/9/2024 16:42)\\nThông tin báo chí về giáo dục ngày 16/9/2024\\n (16/9/2024 19:0)\\nThông tin báo chí về giáo dục ngày 14/9/2024\\n (14/9/2024 19:0)\\nThông tin báo chí về giáo dục ngày 12/9/2024\\n (12/9/2024 19:0)\\nThông tin báo chí về giáo dục ngày 10/9/2024\\n (10/9/2024 19:0)\\nThông tin báo chí về giáo dục ngày 08/9/2024\\n (8/9/2024 19:0)\\nThông tin báo chí về giáo dục ngày 06/9/2024\\n (6/9/2024 19:0)\\n\\n\\n\\n\\n\\n\\nThông tư 11/2024/TT-BGDĐT\\n (18/9/2024 0:0)\\nKhác 6/VBHN-BGDĐT\\n (10/6/2024 0:0)\\nThông tư 9/2024/TT-BGDĐT\\n (3/6/2024 0:0)\\nKhác 527/TB-BGDĐT\\n (14/5/2024 0:0)\\nKhác 3/VBHN-BGDĐT\\n (26/4/2024 0:0)\\nThông tư 7/2024/TT-BGDĐT\\n (2/5/2024 0:0)\\nThông tư 6/2024/TT-BGDĐT\\n (10/4/2024 0:0)\\nThông tư 4/2024/TT-BGDĐT\\n (29/3/2024 0:0)\\nThông tư 2/2024/TT-BGDĐT\\n (6/3/2024 0:0)\\nThông tư 29/2023/TT-BGDĐT\\n (29/12/2023 0:0)\\nThông tư 10/2024/TT-BGDĐT\\n (26/8/2024 0:0)\\nKhác 5/VBHN-BGDĐT\\n (31/5/2024 0:0)\\nKhác 4/VBHN-BGDĐT\\n (30/5/2024 0:0)\\nThông tư 8/2024/TT-BGDĐT\\n (15/5/2024 0:0)\\nKhác 2/VBHN-BGDĐT\\n (26/4/2024 0:0)\\nKhác 1/VBHN-BGDĐT\\n (22/4/2024 0:0)\\nThông tư 5/2024/TT-BGDĐT\\n (29/3/2024 0:0)\\nThông tư 3/2024/TT-BGDĐT\\n (18/3/2024 0:0)\\nThông tư 1/2024/TT-BGDĐT\\n (5/2/2024 0:0)\\nThông tư 31/2023/TT-BGDĐT\\n (29/12/2023 0:0)\\n\\n\\n\\n\\n\\n\\nQuyết định 2532/QĐ-BGDĐT\\n (16/9/2024 0:0)\\nCông văn 1717/QLCL-PQLT\\n (20/9/2024 0:0)\\nQuyết định 2448/QĐ-BGDĐT\\n (10/9/2024 0:0)\\nQuyết định 2450/QĐ-BGDĐT\\n (10/9/2024 0:0)\\nQuyết định 2452/QĐ-BGDĐT\\n (3/9/2024 0:0)\\nQuyết định 2454/QĐ-BGDĐT\\n (10/9/2024 0:0)\\nCông văn 5201/BGDĐT-GDTX\\n (9/9/2024 0:0)\\nCông văn 5154/BGDĐT-PC\\n (6/9/2024 0:0)\\nQuyết định 2383/QĐ-BGDĐT\\n (30/8/2024 0:0)\\nCông văn 4868/BGDĐT-GDMN\\n (29/8/2024 0:0)\\nQuyết định 2533/QĐ-BGDĐT\\n (16/9/2024 0:0)\\nCông văn 5268/BGDĐT-GDDT\\n (11/9/2024 0:0)\\nQuyết định 2449/QĐ-BGDĐT\\n (10/9/2024 0:0)\\nQuyết định 2451/QĐ-BGDĐT\\n (10/9/2024 0:0)\\nQuyết định 2453/QĐ-BGDĐT\\n (10/9/2024 0:0)\\nCông văn 5212/BGDĐT-GDTrH\\n (9/9/2024 0:0)\\nQuyết định 2370/QĐ-BGDĐT\\n (29/8/2024 0:0)\\nCông văn 4654/BGDĐT-GDCTHSSV\\n (23/8/2024 0:0)\\nKhác 1164/CĐ-BGDĐT\\n (30/8/2024 0:0)\\nCông văn 4858/BGDĐT-GDTC\\n (29/8/2024 0:0)\\n\\n\\n\\n\\n\\n\\n\\n\\n\\n\\n\\n\\n\\n\\n\\n\\n\\n\\nThi đua - Khen thưởng\\nLễ sơ kết học kỳ 1 - nh 2023-2024\\n 24/1/2024 0:50\\nDanh sách đề cử tham dự xét chọn giải thưởng\\n...\\n 3/11/2023 18:28\\n\\n\\nVăn bản hành chính\\nVăn bản số 2905/SGDĐT-GDTrH ngày 14/5/2024 V/v nâng cao hiệu quả Giáo dục quốc phòng và an ninh, lồng \\n...\\n 29/8/2024 9:38\\n\\n\\nKết nối với chúng tôi\\n Trường THPT Bùi Thị Xuân\\nĐọc nhiều nhất\\nThông báo lịch tập trung học sinh năm học 2024-2025\\n1\\nDanh mục sách giáo khoa năm học 2024-2025\\n2\\nThông báo: Đăng ký bán trú khối 11, khối 12 năm học 2024-2025\\n3\\nDanh sách khối 10 năm học 2024 - 2025\\n4\\nThông báo: Lịch tập trung học sinh đầu năm học 2024-2025 (Có thay đổi so với thông báo ngày 21-8-2024)\\n5\\nThời khóa biểu áp dụng từ ngày 05/9/2024\\n6\\n\\n\\nTRUYỀN HÌNH GIÁO DỤC\\nNgày hội STEAM - 11/4/2024\\nChung kết bóng đá nam - NH 2023-2024\\nNhững hình ảnh về trường THPT Bùi Thị Xuân sau khi xây dựng.\\n\\n\\nPhần mềm tác nghiệp\\n\\n\\nChào mừng 95 năm ngày Thành lập Công đoàn Việt Nam (28/7/1929 - 28/7/2024)\\nLiên kết website\\nLựa chọn website...\\nThủ tục hành chính trong giáo dục\\nGiáo trình điện tử\\nĐại học khoa học xã hội và nhân văn\\nCẩm nang điện tử thi và tuyển sinh\\nVăn bản quy phạm pháp luật\\nTài nguyên giáo dục và học liệu\\nSở giáo dục và đào tạo Tp. HCM\\nĐại học Khoa học tự nhiên\\nĐại học bách khoa Tp. HCM\\nCổng thông tin hướng nghiệp\\nBộ giáo dục và đào tạo \\nĐại học kinh tế - luật\\n\\n\\n\\n\\n\\n\\nThống kê truy cập\\n\\n\\n\\n\\n\\n\\n\\n\\n\\n\\n\\n\\n\\n\\n0\\n0\\n0\\n9\\n2\\n3\\n8\\n6\\n5\\n2\\n\\n\\n\\n\\n\\n\\n\\n\\n\\n\\nĐang online: \\n\\n\\n\\n\\n\\r\\n                        5\\r\\n                    \\n\\n\\n\\n\\n\\n\\n\\n\\nHôm nay : \\n\\n\\n\\n\\n\\r\\n                        1,058\\r\\n                    \\n\\n\\n\\n\\n\\n\\n\\n\\nHôm qua : \\n\\n\\n\\n\\n\\r\\n                        1,270\\r\\n                    \\n\\n\\n\\n\\n\\n\\n\\n\\nTuần này : \\n\\n\\n\\n\\n\\r\\n                        1,058\\r\\n                    \\n\\n\\n\\n\\n\\n\\n\\n\\nTuần trước : \\n\\n\\n\\n\\n\\r\\n                        7,770\\r\\n                    \\n\\n\\n\\n\\n\\n\\n\\n\\nTháng này : \\n\\n\\n\\n\\n\\r\\n                        32,783\\r\\n                    \\n\\n\\n\\n\\n\\n\\n\\n\\nTháng trước:\\n\\n\\n\\n\\n\\r\\n                        79,657\\r\\n                    \\n\\n\\n\\n\\n\\n\\n\\n\\n\\n\\n\\n\\n\\n\\n\\n\\n \\n\\n\\n\\n\\n\\n\\n\\n\\n\\n\\n\\n\\n\\n\\n\\n\\nPhòng Học vụ: (028)3839 6006\\n\\n\\n\\n\\n\\n\\n\\n\\n\\n\\n\\n\\n\\n\\nThư điện tử: c3buithixuan.tphcm@moet.edu.vn\\n\\n\\n\\n\\n\\n\\n\\n\\n\\n\\n\\n\\n\\n\\nĐịa chỉ: Số 73 đường Bùi Thị Xuân, phường Phạm Ngũ Lão, quận 1, thành phố Hồ Chí Minh\\n.\\n\\n\\n\\n\\n\\n\\n\\n\\n\\n\\n\\n\\n\\n\\n\\n\\n \\n \\n© Bản quyền thuộc Trường THPT Bùi Thị Xuân - \\nthptbuithixuan.hcm.edu.vn\\n \\n \\n \\n\\n\\n\\n\\n\\n\\n(028)3839 6006\\nc3buithixuan.tphcm@moet.edu.vn\\n\\n\\n\\n\\n\\n\\n\\n\\n\\n\\n\\n\\n\\n\\n\\n\\n\\n\\n\\n\\n\\n\\n\\n\\n\\n\\n\\n\\n\\n\\n\\n\\n\\n\\n\\n\\n\\n\\n\\n\\n\\n\\n\\n\\n\\n\\n\\n\\n\\n\\n\\n\\n\\n\\n\\n\\n\\n\\n\\n\\n\\n'),\n",
       " Document(metadata={'source': 'data\\\\data.pdf', 'page': 0}, page_content='1  \\nSỞ GIÁO  DỤC  VÀ ĐÀO  TẠO  \\nTHÀNH PHỐ HỒ CHÍ MINH  \\nTRƯỜNG THPT BÙI THỊ XUÂN  CỘNG  HÒA  XÃ HỘI  CHỦ  NGHĨA  VIỆT  NAM  \\nĐộc lập - Tự do - Hạnh  phúc  \\nSố: 50/KH-BTX  Thành  phố Hồ Chí Minh,  ngày 22 tháng  5 năm 2024 \\n  \\nKẾ HOẠCH TỔ CHỨC CUỘC THI KHOA HỌC KỸ THUẬT   \\nNĂM  HỌC  2024 – 2025 \\n \\nCăn cứ Thông tư số 06/2024/TT -BGDĐT ngày 10 tháng 4 năm 2024 của Bộ  \\nGiáo dục và Đào tạo về ban hành Quy chế Cuộc thi nghiên cứu khoa học, kỹ thuật  \\ncấp quốc gia dành cho  học sinh trung học cơ sở và trung học phổ thông.   \\nCăn cứ công  văn số 2855/SGDĐT -GDTrH  ngày  10 tháng  5 năm 2024 của Sở \\nGiáo dục và Đào tạo về cuộc thi khoa học kỹ thuật cấp thành phố học sinh trung học \\nnăm 202 4 - 2025 \\nTrường  THPT Bùi Thị Xuân  hướng dẫn triển khai hoạt động nghiên cứu   khoa \\nhọc (NCKH) và tổ chức cuộc thi khoa học kỹ thuật cấp trường học sinh  trung học \\n(sau đây gọi tắt là cuộc thi KHKT cấp trường) năm học 202 4 - 2025 như sau: \\nI. MỤC  ĐÍCH  \\n1. Khuyến  khích  học sinh NCKH;  sáng tạo kỹ thuật,  công  nghệ  giải quyết  \\ncác vấn đề thực tiễn. \\n2. Góp phần  đổi mới hình thức tổ chức  hoạt động  dạy học và đánh  giá kết \\nquả học tập theo định hướng  phát triển phẩm  chất,  năng  lực học sinh;  thúc đẩy \\ngiáo viên nâng cao năng lực chuyên môn, nghiệp vụ; nâng cao  chất lượng dạy học \\ntrong các cơ sở giáo dục trung học.  \\n3. Thực hiện giáo dục tích hợp khoa học, công nghệ, kỹ thuật và toán học  \\n(STEM) trong giáo dục trung học theo Chỉ thị số 16/CT -TTg ngày 04/5/2017 của  \\nThủ tướng chính phủ về việc tăng cường tiếp cận cuộc cách mạng công nghiệp \\nlần thứ 4. \\n4. Khuyến khích các cơ sở giáo dục đại học, cao đẳng, cơ sở nghiên cứu, các  \\ntổ chức  và cá nhân hỗ  trợ hoạt động  nghiên  cứu KHKT  của học sinh.  \\n5. Tạo cơ hội để học sinh giới thiệu  kết quả nghiên  cứu KHKT;  tăng cường  \\ntrao đổi, giao lưu văn hóa, giáo dục giữa các địa phương  và hội nhập  quốc  tế. '),\n",
       " Document(metadata={'source': 'data\\\\data.pdf', 'page': 1}, page_content='2  \\n6. Thông qua việc trình bày các giải pháp của hoạt động nghiên cứu KHKT,  \\nhọc sinh đề xuất các hướng nghiên cứu cải tiến phù hợp với tình hình thực tế hiện  \\nnay. \\nII. NỘI  DUNG  TỔ CHỨC  \\n1. Đối tượng dự thi \\nĐối tượng dự thi: Học sinh  khối 10 đến 12 của trường THPT Bùi Thị Xuân năm \\nhọc 202 4 – 2025. \\n2. Nội dung thi  \\nKế hoạch nghiên cứu chi tiết, giải pháp đề xuất của các dự án, đề tài nghiên  cứu \\nkhoa học, kỹ thuật (sau đây gọi chung là dự án) thuộc các lĩnh vực qu y định  trong \\nquy chế của cuộc thi, được thực hiện trong thời gian 01 năm (tính đến ngày  \\n10/12/2024 ). \\nDự án có thể của 01 học sinh (gọi là dự án cá nhân) hoặc của nhóm 02 học  sinh \\ntrong cùng một đơn vị dự thi (gọi là dự án tập thể). Dự án tập thể phải có sự  phân \\nbiệt mức độ đóng góp khác nhau vào kết quả nghiên cứu của người thứ nhất  (nhóm  \\ntrưởng)  với người  thứ hai. Mỗi học sinh chỉ được tham  gia 01 dự án dự thi. \\nCác dự án có thể là kế hoạch,  giải pháp,  mô hình,  sản phẩm  cụ thể có thể được  \\nlàm dưới dạng  các video  clip có thời gian dưới 03 phút.  \\n3.  Thí sinh dự thi và người hướng dẫn nghiên cứu:  \\na) Thí sinh dự thi phải có đủ các điều kiện sau:  \\n- Là học sinh lớp 10, lớp 11, lớp 12;  \\n- Tự nguyện tham gia;  \\n- Có kết quả học tập, rèn luyện năm học 2023 – 2024 đạt từ mức khá trở lên;  \\n- Mỗi thí sinh chỉ được tham gia 01 (một) dự án dự thi.  \\nb) Người hướng dẫn nghiên cứu  \\n- Mỗi dự án dự thi có 01 người hướng dẫn nghiên cứu là giáo viên, nhân viên  \\ncó chuyên môn phù hợp với dự án dự thi đang làm việc tại trường THPT Bùi \\nThị Xuân .  \\n- Mỗi người hướng dẫn nghiên cứu chỉ được hướng dẫn 01 (một) dự án dự thi.  \\n- Người hướng dẫn nghiên cứu chịu trách nhiệm về mặt pháp lý của dự án dự  '),\n",
       " Document(metadata={'source': 'data\\\\data.pdf', 'page': 2}, page_content='3  \\nthi và phải kí phê duyệt Kế hoạch nghiên cứu trước khi học sinh tiến hành \\nnghiên  cứu. \\n4. Lĩnh  vực dự  thi \\nCác dự án dự thi ở 22 lĩnh vực trong  bảng  dưới đây: \\n \\nSTT  Lĩnh  vực Lĩnh  vực chuyên  sâu \\n1 Khoa học  động  \\nvật Hành  vi; Tế bào; Mối liên hệ và tương  tác với môi trường  \\ntự nhiên; Gen và di truyền; Dinh dưỡng và tăng trưởng;  \\nSinh lý;  Hệ thống  và tiến hóa;…  \\n2 Khoa học xã  \\nhội và hành  vi Điều dưỡng và phát triển; Tâm lí; Tâm lí nhận thức; Tâm  \\nlí xã hội  và xã hội học;…  \\n3 Hóa sinh Hóa – Sinh phân  tích; Hóa-Sinh tổng hợp; Hóa – Sinh -Y; \\nHóa – Sinh cấu trúc;…  \\n4 Y Sinh và  khoa \\nhọc sức  khỏe  Chẩn  đoán;  Điều  trị; Phát triển và thử nghiệm  dược  liệu; \\nDịch  tể học; Dinh  dưỡng;  Sinh lí học và và bệnh  lí học;…  \\n5 Kỹ thuật Y  \\nSinh Vật liệu Y Sinh;  Cơ chế Sinh học; Thiết  bị Y Sinh;  Kỹ \\nthuật tế  bào và mô;  Sinh học tổng  hợp;…  \\n6 Sinh học tế  bào \\nvà phân  tử Sinh lí tế bào; Gen;  Miễn  dịch;  Sinh học phân  tử; Sinh \\nhọc thần kinh;…  \\n7 Hóa học Hóa phân  tích; Hóa học trên máy tính; Hóa môi trường;  \\nHóa vô cơ; Hóa  vật liệu; Hóa hữu  cơ; Hóa  Lý;…  \\n8 Sinh học trên  \\nmáy tính và  \\nSinh –Tin Kỹ thuật  Y Sinh;  Dược  lí trên máy tính; Sinh học mô \\nhình trên máy tính; Tiến hóa sinh học trên máy tính; \\nKhoa  học thần kinh trên máy tính; Gen;…  \\n9 Khoa học Trái  \\nĐất và  Môi  \\ntrường  Khí quyển;  Khí hậu; Ảnh hưởng  của môi trường  lên hệ \\nsinh thái;  Địa chất;  Nước;…  \\n10 Hệ thống  \\nnhúng  Kỹ thuật  mạch;  Vi điều khiển;  Giao  tiếp mạng  và dữ liệu; \\nQuang học;  Cảm biến; Gia công  tín hiệu;  … \\n11 Năng lượng  \\nhóa học Nhiên  liệu thay thế; Năng  lượng  hóa thạch;  Phát triển tế \\nbào nhiên  liệu và Pin;  Vật liệu  năng  lượng  mặt trời;…  '),\n",
       " Document(metadata={'source': 'data\\\\data.pdf', 'page': 3}, page_content='4  \\n12 Năng lượng  vật \\nlý Năng  lượng  thủy điện;  Năng  lượng  hạt nhân;  Năng  lượng  \\nmặt trời; Năng  lượng  nhiệt;  Năng  lượng  gió;...  \\n13 Kĩ thuật  cơ khí Kĩ thuật  hàng  không  và vũ trụ; Kĩ  thuật  dân dụng;  Cơ khí \\ntrên máy tính; Lí thuyết điều khiển; Hệ thống vận tải mặt  \\nđất; Kĩ thuật gia công công nghiệp; Kĩ thuật cơ khí; Hệ  \\nthống  hàng  hải;…  \\n14 Kĩ thuật  môi \\ntrường  Xử lí môi trường bằng phương pháp sinh học; Khai thác  \\nđất; Kiểm soát ô nhiễm; Quản lí chất thải và tái sử dụng;  \\nQuản  lí nguồn  nước;…  \\n15 Khoa học vật  \\nliệu Vật liệu sinh học; Gốm và thủy tinh; Vật liệu composite;  \\nLí thuyết và tính toán; Vật liệu điện tử, quang và từ; Vật  \\nliệu nano;  Polymer;..  \\n16 Toán  học Đại số; Phân  tích; Rời rạc; Lý thuyết  Game  và Graph;  \\nHình  học và Topo;  Lý thuyết  số; Xác  suất và thống  kê;…  \\n17 Vi Sinh  Vi trùng  và kháng  sinh;  Vi sinh ứng dụng;  Vi khuẩn;  Vi \\nsinh môi trường; Kháng  sinh tổng  hợp; Vi -rút;…  \\n18 Vật lí và thiên  \\nvăn Thiên  văn học và Vũ trụ học; Vật lí nguyên  tử; phân  tử và \\nquang học; Lí – Sinh; Vật lí trên máy tính; Vật lí thiên  \\nvăn; Vật liệu đo; Từ, điện từ và plasma;  Cơ học; Vật lí \\nhạt cơ bản và hạt nhân;  Quang  học; Laser;  Thu phát sóng  \\nđiện từ; Lượng  tử máy tính; Vật lí lí thuyết;…  \\n19 Khoa học thực  \\nvật Nông nghiệp; Mối liên hệ và tương tác với môi trường tự  \\nnhiên; Gen và sinh sản; Tăng trưởng và phát triển; Bệnh  \\nlí thực vật; Sinh lí thực vật; Hệ  thống  và tiến hóa;…  \\n20 Robot và máy  \\nthông  minh  Máy sinh học; Lí thuyết  điều khiển;  Robot  động  lực;…  \\n21 Hệ thống phần  \\nmềm  Thuật toán; An ninh máy tính; Cơ sở dữ liệu; Hệ điều  \\nhành; Ngôn  ngữ lập trình;..  \\n22 Y học chuyển  \\ndịch Khám  bệnh  và chẩn  đoán;  Phòng  bệnh;  Điều  trị; Kiểm  \\nđịnh thuốc;  Nghiên  cứu tiền  lâm sàng;…  \\n \\n  '),\n",
       " Document(metadata={'source': 'data\\\\data.pdf', 'page': 4}, page_content='5  \\n5. Đăng  ký dự  thi \\n5.1. Hồ sơ dự  thi: \\nBáo cáo thực hiện dự án:  không quá 15 trang  vi tính khổ A4 (chừa lề trái 3  \\ncm, phải 2 cm, trên 2 cm, dưới 2 cm, cách dòng đơn, kiểu chữ Times New Roman,  \\ncỡ chữ 14, báo cáo không  ghi tên đơn vị) bao gồm cả trang  bìa, mục lục và tài \\nliệu tham  khảo , được  thực hiện dưới dạng  file pdf. \\nDự án phải chưa  được  công  bố ở bất kỳ cuộc  thi nào khác,  nếu kế thừa kết quả \\ntừ cuộc thi  khác  phải điền đủ thông  tin tại phiếu  số 7 của hồ sơ dự thi. \\nNội dung  báo cáo dự  án cần  thể hiện:  \\n- Trang bìa: Lĩnh vực dự thi, tên và nội dung cơ bản của dự án, người thực  hiện,  \\nngười  bảo trợ và người  hướng  dẫn dự án, thời gian,  địa điểm  thực hiện  dự án. \\n- Trang  đầu tiên cần tóm tắt dự án: Tính  mới – tính khoa  học – tính thực tiễn - \\ntính cộng  đồng.  \\n- Cấu trúc  nội dung:  \\nA. Lí do chọn  dự án \\nMô tả ngắn gọn tóm tắt cơ sở khoa học của vấn đề nghiên cứu và giải thích  \\ntại sao vấn đề đó quan  trọng  trong  khoa  học. Nếu có thể, giải thích  về bất kì tác \\nđộng  xã hội nào của vấn  đề nghiên  cứu. \\nB. Câu hỏi nghiên  cứu; Vấn đề nghiên  cứu; Giả thuyết  khoa  học. \\nC. Thiết  kế và phương  pháp nghiên  cứu \\n- Mô tả chi tiết tiến trình và thiết kế thí nghiệm (thực nghiệm), bao gồm  \\nphương pháp thu thập số liệu, xác định giải pháp và thiết kế mô hình… Chỉ mô tả  \\ncho dự án của mình  nghiên  cứu, không  bao gồm công  việc được  thực hiện bởi \\nngười  hướng  dẫn hay của những người  khác.  \\n- Xác định những rủi  ro tiềm  năng  và những cảnh  báo an  toàn cần thiết.  \\nD. Tiến hành nghiên  cứu \\n- Trình bày tiến trình nghiên cứu, bao gồm việc thu thập, phân tích và giải  \\nthích  dữ liệu; xây dựng  và kiểm  tra mô hình thiết kế. \\n- Kết luận khoa  học về câu hỏi nghiên  cứu, vấn đề nghiên  cứu, giả thuyết  khoa  '),\n",
       " Document(metadata={'source': 'data\\\\data.pdf', 'page': 5}, page_content='6  \\nhọc. \\nE. Tài liệu tham khảo  \\n- Liệt kê tối thiểu 5 tài liệu tham khảo chính (Ví dụ các bài báo khoa học, \\nsách,  trang web) mà học sinh đã nghiên cứu. Nếu Đề cương nghiên cứu của học \\nsinh có sử dụng động vật có xương sống, một trong số các tham khảo này phải là \\ntài liệu về bảo vệ động vật.  \\n- Trình bày tài liệu tham khảo theo dạn g: Tên tác giả, tên tài liệu, nơi xuất \\nbản, năm xuất bản.  \\nLưu ý:  \\n- Sản phẩm của dự án (nếu có), được thể hiện bằng hình ảnh hoặc video clip \\nmô tả hoạt động; chỉ nộp trực tiếp sản phẩm khi có yêu cầu từ Ban Tổ chức.  \\n- Poster online: Theo phụ lục đính kèm cô ng văn này. Poster online sẽ được \\ncông bố trên website của ban tổ chức  (chỉ thực hiện nếu đề tài được lựa chọn dự \\nthi cấp Thành phố).  \\nHồ sơ mỗi dự án nộp trực tiếp tại Phòng STEAM (CLB khoa học kỹ thuật) . \\n6. Công tác  tổ chức  cuộc  thi \\n6.1. Triển  khai  tổ chức  cuộc  thi \\na) Các đề tài tham dự nộp hồ sơ dự án từ ngày 09/9/202 4 đến ngày 14 /9/2024. \\nHồ sơ dự án nộp tại: https://bit.ly/BTX -KHKT -24-25 hoặc \\nquét mã QR.  \\n \\nb) Cuộc  thi KHKT  cấp trường  tiến hành  trong  thời gian từ ngày  16/9/2024  đến \\nngày  21/9/2024: \\nVòng xét duyệt hồ sơ: ban tổ chức thẩm định, xét duyệt hồ sơ của các dự án  \\ntheo quy định của quy  định của cuộc thi . \\nVòng  phỏng  vấn: ban chấm  thi tiến hành  phỏng  vấn trực tiếp (hoặc  trực tuyến)  \\ncác học sinh thực hiện các dự  án đã  đạt yêu cầu  của Vòng xét  duyệt hồ  sơ và  phỏng  \\nvấn để xét giải đồng  thời chọn  ra 10 dự án tham  gia cuộc  thi KHKT  cấp Thành  \\nphố. \\n'),\n",
       " Document(metadata={'source': 'data\\\\data.pdf', 'page': 6}, page_content='7  \\n6.2. Tiêu chí  đánh  giá dự án dự  thi cuộc  thi KHKT  cấp trường  \\nCăn cứ quy định tại Thông  tư 38/2012/TT -BGDĐT  và Thông  tư 32/2017/TT - \\nBGDĐT,  cuộc  thi KHKT  cấp trường năm học 2024 - 2025 đánh  giá dự án dự thi  \\ncăn cứ  theo các tiêu chí dưới đây: \\n- Chấm  thi theo từng lĩnh vực \\n- Hội đồng  thẩm  định dự án dự thi, thẩm  định quá trình  nghiên  cứu của học \\nsinh  thông qua hồ sơ dự thi. Quá trình thực hiện kế hoạch nghiên cứu.  Trường  hợp \\nhồ sơ dự án dự thi không  đáp ứng yêu cầu hoặc  vi phạm  quy chế thi  sẽ không  được \\nchấm  và được xử  lý theo  quy định.  \\na) Dự án khoa  học \\n- Câu hỏi nghiên cứu:  15 điểm;  \\n- Kế hoạch  nghiên  cứu và phương  pháp nghiên  cứu: 35 điểm;  \\n- Tiến hành  nghiên  cứu (thu  thập,  phân  tích và  sử dụng  dữ liệu):  25 điểm;  \\n- Tính  sáng tạo: 25 điểm.  \\n- Trả lời phỏng  vấn: 35 điểm.  \\nb) Dự án kĩ thuật  \\n- Vấn đề nghiên  cứu: 15 điểm;  \\n- Kế hoạch  nghiên  cứu và phương  pháp nghiên  cứu: 35 điểm;  \\n- Tiến hành  nghiên  cứu (xây  dựng và  thử nghiệm): 25 điểm;  \\n- Tính  sáng tạo: 25 điểm.  \\n- Trả lời phỏng vấn:  35 điểm . \\nTrong quá trình thực hiện, nếu có khó khăn, vướng mắc, cần thông  tin kịp thời \\nvề ban tổ chức  (Cô Lê Thị Thúy Quỳnh – 0923.670.947) để được  hướng  dẫn./.  \\nNơi nhận:  \\n- Phòng Học vụ;  \\n- Phòng tài vụ; \\n- GV- NV; \\n- Lưu: VT, CM, HT   HIỆU TRƯỞNG  \\n \\n(Đã ký) \\n \\n \\n \\nHuỳnh Thanh Phú  \\n '),\n",
       " Document(metadata={'source': 'data\\\\Nữ thần Mặt Trời và Mặt Trăng.docx'}, page_content='\"Nữ thần Mặt Trời và Mặt Trăng\" là một trong những câu truyện của Việt Nam thuộc thần thoại suy nguyên, kể về nguồn gốc của vũ trụ và các hiện tượng thiên nhiên.\\xa0Tác phẩm đã đưa người đọc đến một thế giới thật kì ảo và mơ mộng, bằng cách xây dựng nội dung và sử dụng nghệ thuật có nhiều nét riêng. Do đó câu truyện trở nên vô cùng đặc sắc trong chủ đề và nghệ thuật.\\n\\nTừ thuở xa xưa,có hai chị em nữ thần Mặt Trời và Mặt Trăng là con gái của Ngọc Hoàng. Hai nàng có nhiệm vụ là hàng ngày phải đi xem xét dân sự một vòng luân phiên nhau. Cô chị Mặt Trời được ngồi kiệu có bốn người khiêng đi. Hôm nào bọn trẻ khiêng là cô Mặt Trời thường về chậm, ngày ở dưới hạ giới hoá dài ra. Trái lại, nếu cụ già khiêng kiệu thì nữ thần đi được nhanh chóng, ngày ngắn lại.Với cô Mặt Trăng thì trước kia tính tình nóng nảy có phần hơn cả cô chị. Sau đó cô bị bà mẹ phải trát một lần tro vào mặt. Từ đó tính tình của cô trở nên dịu dàng hơn. Mỗi lần cô ngoảnh mặt nhìn xuống nhân gian thì lúc đó là trăng rằm; cô ngoảnh lưng lại tức là ba mươi, mồng một; cô ngoảnh sang phải, sang trái tức là thời kì trăng thượng huyền hay hạ huyền. Những lúc trăng có quầng là lúc tro trát mặt ngày trước hiện bụi ra. Qua đó,khẳng định đến với tất cả mọi người rằng, mọi sự vật, hiện tượng trên thế gian này đều có nguồn gốc nhất định.\\n\\nTác phẩm “ Nữ thần Mặt Trời và Mặt Trăng” đã thể hiện sự khát khao tìm hiểu thế giới muôn loài, về nguồn gốc của con người và các hiện tượng tự nhiên của người thời cổ. Nhờ vật mà câu truyện thần thoại mày đã giải thích đặc điểm của Mặt Trời, Mặt Trăng và một số hiện tượng tự nhiên như: Tại sao lại có ngày lại dài có ngày lại ngắn? Tại sao xuất hiện nguyệt thực nhật thực. Không những thế, câu truyện còn muốn khẳng định rằng: Những hiện tượng thiên nhiên xảy ra trên Trái Đất đều có nguồn gốc rõ ràng. Là một truyện thuộc thể loại thần thoại, “Nữ thần Mặt Trời và Mặt Trăng” lấy gốc là con người và những sự vật quen thuộc để lí giải sự xuất hiện của Mặt Trời, Mặt Trăng cũng như các hiện tượng tự nhiên. Tác phẩm mang nhiều lại giá trị to lớn, nhiều nhận thức được lưu truyền qua các thế hệ.\\n\\nGiá trị nghệ chính của tác phẩm \"Nữ thần Mặt trời, Nữ thần Mặt trăng\" nằm ở các yếu tố kì ảo .Trong tác phẩm, hai vị nữ thần Mặt trời và Mặt trăng đều có những sức mạnh phi thường, vượt xa khả năng của con người. Mặt trời có thể tạo ra ánh sáng ban ngày, có thể thay đổi độ dài của ngày, còn Mặt trăng có thể tạo ra ánh sáng ban đêm, có thể quay các vị trí khác nhau để con người đếm ngày. Nhờ những sức mạnh siêu nhiên đó, họ đã cùng với những vị thần khác như Thần Trụ Trời, Thần Gió, Thần Sấm sét tạo ra thế giới này và giúp thế giới vận hành, cuộc sống con người được diễn ra. Sự xuất hiện của những yếu tố kì ảo này đã tạo nên sự hấp dẫn, lôi cuốn cho tác phẩm. Nó giúp người đọc hình dung được sự kỳ diệu của thế giới tự nhiên, đồng thời thể hiện niềm tin của người xưa về sự hiện diện của các vị thần linh.Bên cạnh đó, việc sử dụng nghệ thuật này cũng góp phần thể hiện tính sáng tạo và trí tưởng tượng phong phú của người xưa. Họ đã sử dụng trí tưởng tượng của mình để tạo ra những hình ảnh, chi tiết kì diệu, mang đậm màu sắc huyền bí.\\n\\nĐồng thời cũng giống như bao câu truyện thần thoại suy nguyên khác. Không gian trong truyện \"Nữ thần Mặt Trời và Mặt Trăng\" là một không gian vũ trụ rộng lớn, bao la, không xác định được địa điểm cụ thể. Thời gian trong truyện cũng không xác định được, chỉ biết là thời gian từ thời cổ sơ. Cốt truyện xoay quanh sự xuất hiện của hai vị thần Mặt Trời và Mặt Trăng , giải thích nguồn gốc của các hiện tượng tự nhiên trên Trái Đất.\\n\\nNhững phân tích trên đây cho thấy Nữ thần Mặt Trời và Mặt Trăng là một câu truyện thần thoại đặc sắc.Tác phẩm tiêu biểu cho những câu truyện thần thoại trong kho tàn văn học của Việt Nam.Về chủ đề, truyện là sự lí giải thú vị về nguồn gốc và các hiện tượng tự nhiên của Mặt Trời và Mặt Trăng.Về hình thức nghệ thuật,tác giả đã tạo được tình huống và lỗi kết cấu đặc sắc để các nhân vật bộc lộ tính cách của mình.Tác phẩm giúp chúng ta hiểu thêm về thế giới tự nhiên, về sự hình thành và phát triển của vũ trụ.\\n\\nQua truyện Nữ thần Mặt Trời và Mặt Trăng đã giúp chúng ta hiểu thêm về cách nhận thức và lý giải nguồn gốc thế giới của người Việt xưa một cách hết sức tự nhiên.Đồng thời ca ngợi sức mạnh phi thường của các vị thần trong quá trình tạo lập thế giới.Ngày nay, với sự phát triển của khoa học kĩ thuật mà chúng ta đã dần quên đi những giá trị, những cách giải thích của những trí tưởng tượng phong phú của người Việt cổ xưa.Tác phảm đã giúp chúng ta biết thêm về đều đó.')]"
      ]
     },
     "execution_count": 14,
     "metadata": {},
     "output_type": "execute_result"
    }
   ],
   "source": [
    "combined_documents"
   ]
  },
  {
   "cell_type": "code",
   "execution_count": 19,
   "metadata": {},
   "outputs": [
    {
     "name": "stderr",
     "output_type": "stream",
     "text": [
      "c:\\Users\\Dell\\anaconda3\\envs\\chat\\Lib\\site-packages\\sentence_transformers\\cross_encoder\\CrossEncoder.py:13: TqdmWarning: IProgress not found. Please update jupyter and ipywidgets. See https://ipywidgets.readthedocs.io/en/stable/user_install.html\n",
      "  from tqdm.autonotebook import tqdm, trange\n",
      "c:\\Users\\Dell\\anaconda3\\envs\\chat\\Lib\\site-packages\\huggingface_hub\\file_download.py:147: UserWarning: `huggingface_hub` cache-system uses symlinks by default to efficiently store duplicated files but your machine does not support them in C:\\Users\\Dell\\.cache\\huggingface\\hub\\models--sentence-transformers--paraphrase-multilingual-MiniLM-L12-v2. Caching files will still work but in a degraded version that might require more space on your disk. This warning can be disabled by setting the `HF_HUB_DISABLE_SYMLINKS_WARNING` environment variable. For more details, see https://huggingface.co/docs/huggingface_hub/how-to-cache#limitations.\n",
      "To support symlinks on Windows, you either need to activate Developer Mode or to run Python as an administrator. In order to activate developer mode, see this article: https://docs.microsoft.com/en-us/windows/apps/get-started/enable-your-device-for-development\n",
      "  warnings.warn(message)\n",
      "c:\\Users\\Dell\\anaconda3\\envs\\chat\\Lib\\site-packages\\transformers\\tokenization_utils_base.py:1601: FutureWarning: `clean_up_tokenization_spaces` was not set. It will be set to `True` by default. This behavior will be depracted in transformers v4.45, and will be then set to `False` by default. For more details check this issue: https://github.com/huggingface/transformers/issues/31884\n",
      "  warnings.warn(\n"
     ]
    }
   ],
   "source": [
    "text_splitter = RecursiveCharacterTextSplitter(chunk_size=512, chunk_overlap=50)\n",
    "chunks = text_splitter.split_documents(combined_documents)\n",
    "\n",
    "# Embeding\n",
    "# embedding_model = GPT4AllEmbeddings(model_file=\"models/all-MiniLM-L6-v2-f16.gguf\")\n",
    "embedding_model = HuggingFaceEmbeddings(model_name=\"sentence-transformers/paraphrase-multilingual-MiniLM-L12-v2\")\n",
    "\n",
    "db = FAISS.from_documents(chunks, embedding_model)"
   ]
  },
  {
   "cell_type": "code",
   "execution_count": 10,
   "metadata": {},
   "outputs": [
    {
     "name": "stderr",
     "output_type": "stream",
     "text": [
      "c:\\Users\\Dell\\anaconda3\\envs\\chat\\Lib\\site-packages\\tqdm\\auto.py:21: TqdmWarning: IProgress not found. Please update jupyter and ipywidgets. See https://ipywidgets.readthedocs.io/en/stable/user_install.html\n",
      "  from .autonotebook import tqdm as notebook_tqdm\n"
     ]
    }
   ],
   "source": [
    "model_file = 'vinallama-7b-chat_q5_0.gguf'\n",
    "llm = CTransformers(\n",
    "        model=model_file,\n",
    "        model_type=\"llama\",\n",
    "        max_new_tokens=1024,\n",
    "        temperature=0.01\n",
    "    )"
   ]
  },
  {
   "cell_type": "code",
   "execution_count": 12,
   "metadata": {},
   "outputs": [],
   "source": [
    "template = \"\"\"<|im_start|>system\\nSử dụng thông tin sau đây để trả lời câu hỏi. Nếu bạn không biết câu trả lời, hãy nói không biết, đừng cố tạo ra câu trả lời\\n\n",
    "    {context}<|im_end|>\\n<|im_start|>user\\n{question}<|im_end|>\\n<|im_start|>assistant\"\"\"\n",
    "prompt = PromptTemplate(template = template, input_variables=[\"context\", \"question\"])\n",
    "llm_chain = RetrievalQA.from_chain_type(\n",
    "        llm = llm,\n",
    "        chain_type= \"stuff\",\n",
    "        retriever = db.as_retriever(search_kwargs = {\"k\":3}, max_tokens_limit=1024),\n",
    "        return_source_documents = False,\n",
    "        chain_type_kwargs= {'prompt': prompt}\n",
    "\n",
    "    )"
   ]
  },
  {
   "cell_type": "code",
   "execution_count": 38,
   "metadata": {},
   "outputs": [
    {
     "name": "stderr",
     "output_type": "stream",
     "text": [
      "Number of tokens (627) exceeded maximum context length (512).\n",
      "Number of tokens (628) exceeded maximum context length (512).\n",
      "Number of tokens (629) exceeded maximum context length (512).\n",
      "Number of tokens (630) exceeded maximum context length (512).\n",
      "Number of tokens (631) exceeded maximum context length (512).\n",
      "Number of tokens (632) exceeded maximum context length (512).\n",
      "Number of tokens (633) exceeded maximum context length (512).\n",
      "Number of tokens (634) exceeded maximum context length (512).\n",
      "Number of tokens (635) exceeded maximum context length (512).\n",
      "Number of tokens (636) exceeded maximum context length (512).\n",
      "Number of tokens (637) exceeded maximum context length (512).\n",
      "Number of tokens (638) exceeded maximum context length (512).\n",
      "Number of tokens (639) exceeded maximum context length (512).\n",
      "Number of tokens (640) exceeded maximum context length (512).\n",
      "Number of tokens (641) exceeded maximum context length (512).\n",
      "Number of tokens (642) exceeded maximum context length (512).\n",
      "Number of tokens (643) exceeded maximum context length (512).\n",
      "Number of tokens (644) exceeded maximum context length (512).\n",
      "Number of tokens (645) exceeded maximum context length (512).\n",
      "Number of tokens (646) exceeded maximum context length (512).\n",
      "Number of tokens (647) exceeded maximum context length (512).\n",
      "Number of tokens (648) exceeded maximum context length (512).\n",
      "Number of tokens (649) exceeded maximum context length (512).\n",
      "Number of tokens (650) exceeded maximum context length (512).\n",
      "Number of tokens (651) exceeded maximum context length (512).\n",
      "Number of tokens (652) exceeded maximum context length (512).\n",
      "Number of tokens (653) exceeded maximum context length (512).\n",
      "Number of tokens (654) exceeded maximum context length (512).\n",
      "Number of tokens (655) exceeded maximum context length (512).\n",
      "Number of tokens (656) exceeded maximum context length (512).\n",
      "Number of tokens (657) exceeded maximum context length (512).\n",
      "Number of tokens (658) exceeded maximum context length (512).\n",
      "Number of tokens (659) exceeded maximum context length (512).\n",
      "Number of tokens (660) exceeded maximum context length (512).\n",
      "Number of tokens (661) exceeded maximum context length (512).\n",
      "Number of tokens (662) exceeded maximum context length (512).\n",
      "Number of tokens (663) exceeded maximum context length (512).\n",
      "Number of tokens (664) exceeded maximum context length (512).\n",
      "Number of tokens (665) exceeded maximum context length (512).\n",
      "Number of tokens (666) exceeded maximum context length (512).\n",
      "Number of tokens (667) exceeded maximum context length (512).\n",
      "Number of tokens (668) exceeded maximum context length (512).\n",
      "Number of tokens (669) exceeded maximum context length (512).\n",
      "Number of tokens (670) exceeded maximum context length (512).\n",
      "Number of tokens (671) exceeded maximum context length (512).\n",
      "Number of tokens (672) exceeded maximum context length (512).\n",
      "Number of tokens (673) exceeded maximum context length (512).\n",
      "Number of tokens (674) exceeded maximum context length (512).\n",
      "Number of tokens (675) exceeded maximum context length (512).\n",
      "Number of tokens (676) exceeded maximum context length (512).\n",
      "Number of tokens (677) exceeded maximum context length (512).\n"
     ]
    },
    {
     "name": "stdout",
     "output_type": "stream",
     "text": [
      "{'query': 'bạn hãy giới thiệu về bản thân', 'result': '> >1>|>tant|>  và các chi tiết;  \\n-g.\\n-s  và thông tin, địa điểm;  \\n-thand  tance,  tance.\\n-\\n-'}\n"
     ]
    }
   ],
   "source": [
    "question = \"bạn hãy giới thiệu về bản thân\"\n",
    "response = llm_chain.invoke({\"query\": question})\n",
    "print(response)"
   ]
  },
  {
   "cell_type": "code",
   "execution_count": 39,
   "metadata": {},
   "outputs": [
    {
     "name": "stdout",
     "output_type": "stream",
     "text": [
      "> >1>|>tant|>  và các chi tiết;  \n",
      "-g.\n",
      "-s  và thông tin, địa điểm;  \n",
      "-thand  tance,  tance.\n",
      "-\n",
      "-\n"
     ]
    }
   ],
   "source": [
    "print(response['result'])"
   ]
  }
 ],
 "metadata": {
  "kernelspec": {
   "display_name": "chat",
   "language": "python",
   "name": "python3"
  },
  "language_info": {
   "codemirror_mode": {
    "name": "ipython",
    "version": 3
   },
   "file_extension": ".py",
   "mimetype": "text/x-python",
   "name": "python",
   "nbconvert_exporter": "python",
   "pygments_lexer": "ipython3",
   "version": "3.11.9"
  }
 },
 "nbformat": 4,
 "nbformat_minor": 2
}
